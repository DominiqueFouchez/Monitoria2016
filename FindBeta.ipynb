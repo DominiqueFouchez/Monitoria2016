{
 "cells": [
  {
   "cell_type": "code",
   "execution_count": 1,
   "metadata": {
    "collapsed": false
   },
   "outputs": [
    {
     "name": "stdout",
     "output_type": "stream",
     "text": [
      "Populating the interactive namespace from numpy and matplotlib\n"
     ]
    }
   ],
   "source": [
    "%pylab inline\n",
    "from sklearn import linear_model\n",
    "import cv2"
   ]
  },
  {
   "cell_type": "code",
   "execution_count": 2,
   "metadata": {
    "collapsed": true
   },
   "outputs": [],
   "source": [
    "max_iter = 10000\n",
    "\n",
    "# \"noise must be a scalar for the entire image\"\n",
    "sigma_r = 100\n",
    "sigma_n = 100\n",
    "epsilon = 0.01\n",
    "beta_epsilon = 0.001"
   ]
  },
  {
   "cell_type": "code",
   "execution_count": 4,
   "metadata": {
    "collapsed": false
   },
   "outputs": [],
   "source": [
    "R = cv2.imread('./Images/RealImage.jpg', cv2.CV_LOAD_IMAGE_GRAYSCALE) \n",
    "N = cv2.imread('./Images/NewImage.jpg', cv2.CV_LOAD_IMAGE_GRAYSCALE) \n",
    "\n",
    "mean = 0\n",
    "row_r, col_r = R.shape\n",
    "row_n, col_n = N.shape\n",
    "# We are not how to represent the PSF used. \n",
    "PSF_r = np.random.normal(mean, 3, (row_r,col_r))\n",
    "PSF_n = np.random.normal(mean, 3, (row_n,col_n))"
   ]
  },
  {
   "cell_type": "code",
   "execution_count": 10,
   "metadata": {
    "collapsed": true
   },
   "outputs": [],
   "source": [
    "fourier_R = fft.fft2(R)\n",
    "fourier_N = fft.fft2(N)\n",
    "fourier_PSF_r = fft.fft2(PSF_r)\n",
    "fourier_PSF_n = fft.fft2(PSF_n)"
   ]
  },
  {
   "cell_type": "code",
   "execution_count": 6,
   "metadata": {
    "collapsed": true
   },
   "outputs": [],
   "source": [
    "#This is not a robust fit, which the article calls for\n",
    "def linear_fit(D_r, D_n):\n",
    "    D_r_elements = D_r.flatten().reshape(-1, 1) \n",
    "    D_n_elements = D_n.flatten().reshape(-1, 1) \n",
    "    lr_model = linear_model.LinearRegression().fit(D_r_elements, D_n_elements)\n",
    "    slope = lr_model.coef_[0]\n",
    "    intercept = lr_model.intercept_\n",
    "    return slope, intercept"
   ]
  },
  {
   "cell_type": "code",
   "execution_count": 12,
   "metadata": {
    "collapsed": false
   },
   "outputs": [
    {
     "name": "stdout",
     "output_type": "stream",
     "text": [
      "Number of iterations: 3\n",
      "Beta: [-0.00477517]\n",
      "Gamma: [ 40.84543608]\n"
     ]
    }
   ],
   "source": [
    "beta = 1\n",
    "gamma_prime = 0\n",
    "\n",
    "beta_converges = False\n",
    "num_iter = 0\n",
    "\n",
    "while not beta_converges and num_iter < max_iter:\n",
    "    num_iter = num_iter + 1\n",
    "    denom = (beta**2)*(sigma_r**2)*(fourier_PSF_n*conjugate(fourier_PSF_n)) + (sigma_n**2)*(fourier_PSF_r*conjugate(fourier_PSF_r)) + epsilon\n",
    "    fourier_D_n = (fourier_PSF_r*fourier_N)/sqrt(denom)\n",
    "    fourier_D_r = (fourier_PSF_n*fourier_R)/sqrt(denom)\n",
    "    \n",
    "    D_n = ifft2(fourier_D_n)\n",
    "    D_r = ifft2(fourier_D_r)\n",
    "    \n",
    "    # here, they select pixels which are one (really three) sigma above the image noise\n",
    "    # We don't do that\n",
    "    \n",
    "    prev_beta = beta\n",
    "    # the fit we are using ignores the imaginary part...\n",
    "    beta, gamma_prime = linear_fit(real(D_r), real(D_n))\n",
    "    \n",
    "    if abs(beta - prev_beta) < beta_epsilon:\n",
    "        beta_converges = True\n",
    "gamma = gamma_prime*sqrt(sigma_n**2 + (beta**2)*(sigma_r**2))\n",
    "print('Number of iterations: ' + str(num_iter))\n",
    "print('Beta: ' + str(beta))\n",
    "print('Gamma: ' + str(gamma))"
   ]
  },
  {
   "cell_type": "code",
   "execution_count": null,
   "metadata": {
    "collapsed": true
   },
   "outputs": [],
   "source": []
  }
 ],
 "metadata": {
  "kernelspec": {
   "display_name": "Python 2",
   "language": "python",
   "name": "python2"
  },
  "language_info": {
   "codemirror_mode": {
    "name": "ipython",
    "version": 2
   },
   "file_extension": ".py",
   "mimetype": "text/x-python",
   "name": "python",
   "nbconvert_exporter": "python",
   "pygments_lexer": "ipython2",
   "version": "2.7.11"
  }
 },
 "nbformat": 4,
 "nbformat_minor": 0
}
