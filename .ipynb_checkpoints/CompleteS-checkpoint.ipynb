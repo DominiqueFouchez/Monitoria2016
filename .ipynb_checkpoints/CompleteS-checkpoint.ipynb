{
 "cells": [
  {
   "cell_type": "code",
   "execution_count": 1,
   "metadata": {
    "collapsed": false
   },
   "outputs": [
    {
     "name": "stdout",
     "output_type": "stream",
     "text": [
      "Populating the interactive namespace from numpy and matplotlib\n"
     ]
    }
   ],
   "source": [
    "%pylab inline\n",
    "from sklearn import linear_model\n",
    "import cv2\n",
    "from math import exp\n",
    "from matplotlib import pyplot as plt"
   ]
  },
  {
   "cell_type": "markdown",
   "metadata": {},
   "source": [
    "<h2>Initial Parameters</h2>\n"
   ]
  },
  {
   "cell_type": "markdown",
   "metadata": {},
   "source": [
    "Import simulated images"
   ]
  },
  {
   "cell_type": "code",
   "execution_count": 2,
   "metadata": {
    "collapsed": false
   },
   "outputs": [],
   "source": [
    "R = cv2.imread('./Images/ReferenceImage.jpg', cv2.CV_LOAD_IMAGE_GRAYSCALE) \n",
    "N = cv2.imread('./Images/NewImage.jpg', cv2.CV_LOAD_IMAGE_GRAYSCALE) \n",
    "row_r, col_r = R.shape\n",
    "row_n, col_n = N.shape\n",
    "#vis = np.concatenate((R, N), axis=1)\n",
    "#plt.imshow(vis, cmap=\"Greys_r\")"
   ]
  },
  {
   "cell_type": "markdown",
   "metadata": {},
   "source": [
    "Known image parameters (from simulation)"
   ]
  },
  {
   "cell_type": "code",
   "execution_count": 3,
   "metadata": {
    "collapsed": true
   },
   "outputs": [],
   "source": [
    "# Auxiliary functions to calculate PSFs\n",
    "def gaussian(x, mu, sigma):\n",
    "    return exp( -(((x-mu)/(sigma))**2)/2.0 )\n",
    "\n",
    "def get_convolution_matrix(kernel_radius, sigma):\n",
    "    # compute the kernel elements\n",
    "    hkernel = [gaussian(x, kernel_radius, sigma) for x in range(2*kernel_radius+1)]\n",
    "    vkernel = [x for x in hkernel]\n",
    "    kernel2d = [[xh*xv for xh in hkernel] for xv in vkernel]\n",
    "\n",
    "    # normalize the kernel elements\n",
    "    kernelsum = sum([sum(row) for row in kernel2d])\n",
    "    kernel2d = [[x/kernelsum for x in row] for row in kernel2d]\n",
    "\n",
    "    return array(kernel2d)"
   ]
  },
  {
   "cell_type": "code",
   "execution_count": 4,
   "metadata": {
    "collapsed": false
   },
   "outputs": [],
   "source": [
    "# Authors specify in code that \"noise must be a scalar for the entire image\"\n",
    "sigma_r = 100 #Std. deviation for noise in reference image\n",
    "sigma_n = 100 #Std. deviation for noise in new image\n",
    "\n",
    "# PSFs are being represented as tiles of convolution matrixes\n",
    "tile_size = 15\n",
    "sigma_PSF = 3.\n",
    "PSF_r = get_convolution_matrix((tile_size - 1)/2, sigma_PSF) \n",
    "PSF_r = np.tile(PSF_r, (row_r/tile_size, col_r/tile_size))\n",
    "PSF_n = get_convolution_matrix((tile_size - 1)/2, sigma_PSF) \n",
    "PSF_n = np.tile(PSF_n, (row_n/tile_size, col_n/tile_size))\n",
    "\n",
    "# constant = 0.11957153\n",
    "# PSF_r = constant*ones((row_r, col_r))\n",
    "# PSF_n = constant*ones((row_r, col_r))"
   ]
  },
  {
   "cell_type": "markdown",
   "metadata": {},
   "source": [
    "Fourier transforms"
   ]
  },
  {
   "cell_type": "code",
   "execution_count": 5,
   "metadata": {
    "collapsed": true
   },
   "outputs": [],
   "source": [
    "fourier_R = fft.fft2(R)\n",
    "fourier_N = fft.fft2(N)\n",
    "fourier_PSF_r = fft.fft2(PSF_r)\n",
    "fourier_PSF_n = fft.fft2(PSF_n)"
   ]
  },
  {
   "cell_type": "markdown",
   "metadata": {},
   "source": [
    "<h2>Finding Beta</h2>"
   ]
  },
  {
   "cell_type": "markdown",
   "metadata": {},
   "source": [
    "Parameters to calculate $\\beta$, the ratio of Flux Based Zero Point of the Images"
   ]
  },
  {
   "cell_type": "code",
   "execution_count": 6,
   "metadata": {
    "collapsed": true
   },
   "outputs": [],
   "source": [
    "max_iter_beta = 10000 # maximum number of iterations for the fit\n",
    "beta_epsilon = 0.001 # minimum distance for convergence of the fit\n",
    "epsilon = 0.001 # avoids division by zero"
   ]
  },
  {
   "cell_type": "markdown",
   "metadata": {},
   "source": [
    "Fit"
   ]
  },
  {
   "cell_type": "code",
   "execution_count": 7,
   "metadata": {
    "collapsed": true
   },
   "outputs": [],
   "source": [
    "# The fit is being donde through sklearn's linear regression\n",
    "# It appears this is not a robust fit, which the article calls for\n",
    "def linear_fit(D_r, D_n):\n",
    "    D_r_elements = D_r.flatten().reshape(-1, 1) \n",
    "    D_n_elements = D_n.flatten().reshape(-1, 1) \n",
    "    lr_model = linear_model.LinearRegression().fit(D_r_elements, D_n_elements)\n",
    "    slope = lr_model.coef_[0]\n",
    "    intercept = lr_model.intercept_\n",
    "    return slope, intercept"
   ]
  },
  {
   "cell_type": "code",
   "execution_count": 8,
   "metadata": {
    "collapsed": false
   },
   "outputs": [
    {
     "name": "stdout",
     "output_type": "stream",
     "text": [
      "Number of iterations: 2\n",
      "Beta: [ 1.00534089]\n",
      "Gamma: [ 0.12962883]\n"
     ]
    }
   ],
   "source": [
    "beta = 1\n",
    "gamma_prime = 0\n",
    "\n",
    "beta_converges = False\n",
    "num_iter = 0\n",
    "\n",
    "while not beta_converges and num_iter < max_iter_beta:\n",
    "    num_iter = num_iter + 1\n",
    "    denom = (beta**2)*(sigma_r**2)*(fourier_PSF_n*conjugate(fourier_PSF_n)) + (sigma_n**2)*(fourier_PSF_r*conjugate(fourier_PSF_r)) + epsilon\n",
    "    fourier_D_n = (fourier_PSF_r*fourier_N)/sqrt(denom)\n",
    "    fourier_D_r = (fourier_PSF_n*fourier_R)/sqrt(denom)\n",
    "    \n",
    "    D_n = ifft2(fourier_D_n)\n",
    "    D_r = ifft2(fourier_D_r)\n",
    "    \n",
    "    # Here, they select pixels which are one (really three) sigma above the image noise\n",
    "    # We don't do that\n",
    "    \n",
    "    prev_beta = beta\n",
    "    # The fit we are using ignores imaginary parts, so we fit the squares instead \n",
    "    beta, gamma_prime = linear_fit(real(D_r*conjugate(D_r)), real(D_n*conjugate(D_n)))\n",
    "    if abs(beta - prev_beta) < beta_epsilon:\n",
    "        beta_converges = True\n",
    "gamma = gamma_prime*sqrt(sigma_n**2 + (beta**2)*(sigma_r**2))\n",
    "\n",
    "# The article claims the number of iterations is usually small (between two and three).\n",
    "# This is true for this implementation\n",
    "print('Number of iterations: ' + str(num_iter))\n",
    "print('Beta: ' + str(beta))\n",
    "print('Gamma: ' + str(gamma))"
   ]
  },
  {
   "cell_type": "markdown",
   "metadata": {},
   "source": [
    "<h2>Finding S</h2>"
   ]
  },
  {
   "cell_type": "markdown",
   "metadata": {},
   "source": [
    "Assignment of Flux Based Zero Points"
   ]
  },
  {
   "cell_type": "code",
   "execution_count": 9,
   "metadata": {
    "collapsed": true
   },
   "outputs": [],
   "source": [
    "# Fs are assigned as the article suggests\n",
    "F_r = 1\n",
    "F_n = beta"
   ]
  },
  {
   "cell_type": "markdown",
   "metadata": {},
   "source": [
    "Closed formula"
   ]
  },
  {
   "cell_type": "code",
   "execution_count": 10,
   "metadata": {
    "collapsed": false
   },
   "outputs": [],
   "source": [
    "denom = (sigma_r**2)*(F_n**2)*(fourier_PSF_n*conjugate(fourier_PSF_n)) \n",
    "denom = denom + (sigma_n**2)*(F_r**2)*(fourier_PSF_r*conjugate(fourier_PSF_r)) + epsilon\n",
    "                               \n",
    "fourier_S = (F_n)*(F_r**2)*conjugate(fourier_PSF_n)*(fourier_PSF_r*conjugate(fourier_PSF_r))*fourier_N\n",
    "fourier_S = fourier_S - (F_r)*(F_n**2)*conjugate(fourier_PSF_r)*(fourier_PSF_n*conjugate(fourier_PSF_n))*fourier_R\n",
    "fourier_S = fourier_S/denom\n",
    "S = ifft2(fourier_S)"
   ]
  },
  {
   "cell_type": "code",
   "execution_count": 11,
   "metadata": {
    "collapsed": false
   },
   "outputs": [
    {
     "data": {
      "text/plain": [
       "True"
      ]
     },
     "execution_count": 11,
     "metadata": {},
     "output_type": "execute_result"
    },
    {
     "data": {
      "image/png": "[encoded data removed]",
      "text/plain": [
       "<matplotlib.figure.Figure at 0x10fd19110>"
      ]
     },
     "metadata": {},
     "output_type": "display_data"
    }
   ],
   "source": [
    "# We romove the imaginary parts from S by squaring it\n",
    "# We also scale its histogram to 0-255\n",
    "real_S = real(S*conjugate(S))\n",
    "maximum_S = amax(real_S)\n",
    "\n",
    "# We also scale its histogram to 0-255\n",
    "real_S = (255/maximum_S)*real_S\n",
    "maximum_S = amax(real_S)\n",
    "\n",
    "plt.imshow(real_S, cmap=\"Greys_r\")\n",
    "cv2.imwrite('./Images/S.jpg', real_S)"
   ]
  },
  {
   "cell_type": "markdown",
   "metadata": {},
   "source": [
    "Global Maxima"
   ]
  },
  {
   "cell_type": "code",
   "execution_count": 12,
   "metadata": {
    "collapsed": false
   },
   "outputs": [
    {
     "name": "stdout",
     "output_type": "stream",
     "text": [
      "Maximum: 255.0\n",
      "Points:\n",
      "(0,0)\n",
      "(0,15)\n",
      "(0,30)\n",
      "(0,45)\n",
      "(0,60)\n",
      "(0,75)\n",
      "(0,90)\n",
      "(0,105)\n",
      "(0,120)\n",
      "(0,135)\n",
      "(0,150)\n",
      "(0,165)\n",
      "(0,180)\n",
      "(0,195)\n",
      "(0,210)\n",
      "(0,225)\n",
      "(0,240)\n",
      "(15,0)\n",
      "(15,15)\n",
      "(15,30)\n",
      "(15,45)\n",
      "(15,60)\n",
      "(15,75)\n",
      "(15,90)\n",
      "(15,105)\n",
      "(15,120)\n",
      "(15,135)\n",
      "(15,150)\n",
      "(15,165)\n",
      "(15,180)\n",
      "(15,195)\n",
      "(15,210)\n",
      "(15,225)\n",
      "(15,240)\n",
      "(30,0)\n",
      "(30,15)\n",
      "(30,30)\n",
      "(30,45)\n",
      "(30,60)\n",
      "(30,75)\n",
      "(30,90)\n",
      "(30,105)\n",
      "(30,120)\n",
      "(30,135)\n",
      "(30,150)\n",
      "(30,165)\n",
      "(30,180)\n",
      "(30,195)\n",
      "(30,210)\n",
      "(30,225)\n",
      "(30,240)\n",
      "(45,0)\n",
      "(45,15)\n",
      "(45,30)\n",
      "(45,45)\n",
      "(45,60)\n",
      "(45,75)\n",
      "(45,90)\n",
      "(45,105)\n",
      "(45,120)\n",
      "(45,135)\n",
      "(45,150)\n",
      "(45,165)\n",
      "(45,180)\n",
      "(45,195)\n",
      "(45,210)\n",
      "(45,225)\n",
      "(45,240)\n",
      "(60,0)\n",
      "(60,15)\n",
      "(60,30)\n",
      "(60,45)\n",
      "(60,60)\n",
      "(60,75)\n",
      "(60,90)\n",
      "(60,105)\n",
      "(60,120)\n",
      "(60,135)\n",
      "(60,150)\n",
      "(60,165)\n",
      "(60,180)\n",
      "(60,195)\n",
      "(60,210)\n",
      "(60,225)\n",
      "(60,240)\n",
      "(75,0)\n",
      "(75,15)\n",
      "(75,30)\n",
      "(75,45)\n",
      "(75,60)\n",
      "(75,75)\n",
      "(75,90)\n",
      "(75,105)\n",
      "(75,120)\n",
      "(75,135)\n",
      "(75,150)\n",
      "(75,165)\n",
      "(75,180)\n",
      "(75,195)\n",
      "(75,210)\n",
      "(75,225)\n",
      "(75,240)\n",
      "(90,0)\n",
      "(90,15)\n",
      "(90,30)\n",
      "(90,45)\n",
      "(90,60)\n",
      "(90,75)\n",
      "(90,90)\n",
      "(90,105)\n",
      "(90,120)\n",
      "(90,135)\n",
      "(90,150)\n",
      "(90,165)\n",
      "(90,180)\n",
      "(90,195)\n",
      "(90,210)\n",
      "(90,225)\n",
      "(90,240)\n",
      "(105,0)\n",
      "(105,15)\n",
      "(105,30)\n",
      "(105,45)\n",
      "(105,60)\n",
      "(105,75)\n",
      "(105,90)\n",
      "(105,105)\n",
      "(105,120)\n",
      "(105,135)\n",
      "(105,150)\n",
      "(105,165)\n",
      "(105,180)\n",
      "(105,195)\n",
      "(105,210)\n",
      "(105,225)\n",
      "(105,240)\n",
      "(120,0)\n",
      "(120,15)\n",
      "(120,30)\n",
      "(120,45)\n",
      "(120,60)\n",
      "(120,75)\n",
      "(120,90)\n",
      "(120,105)\n",
      "(120,120)\n",
      "(120,135)\n",
      "(120,150)\n",
      "(120,165)\n",
      "(120,180)\n",
      "(120,195)\n",
      "(120,210)\n",
      "(120,225)\n",
      "(120,240)\n",
      "(135,0)\n",
      "(135,15)\n",
      "(135,30)\n",
      "(135,45)\n",
      "(135,60)\n",
      "(135,75)\n",
      "(135,90)\n",
      "(135,105)\n",
      "(135,120)\n",
      "(135,135)\n",
      "(135,150)\n",
      "(135,165)\n",
      "(135,180)\n",
      "(135,195)\n",
      "(135,210)\n",
      "(135,225)\n",
      "(135,240)\n",
      "(150,0)\n",
      "(150,15)\n",
      "(150,30)\n",
      "(150,45)\n",
      "(150,60)\n",
      "(150,75)\n",
      "(150,90)\n",
      "(150,105)\n",
      "(150,120)\n",
      "(150,135)\n",
      "(150,150)\n",
      "(150,165)\n",
      "(150,180)\n",
      "(150,195)\n",
      "(150,210)\n",
      "(150,225)\n",
      "(150,240)\n",
      "(165,0)\n",
      "(165,15)\n",
      "(165,30)\n",
      "(165,45)\n",
      "(165,60)\n",
      "(165,75)\n",
      "(165,90)\n",
      "(165,105)\n",
      "(165,120)\n",
      "(165,135)\n",
      "(165,150)\n",
      "(165,165)\n",
      "(165,180)\n",
      "(165,195)\n",
      "(165,210)\n",
      "(165,225)\n",
      "(165,240)\n",
      "(180,0)\n",
      "(180,15)\n",
      "(180,30)\n",
      "(180,45)\n",
      "(180,60)\n",
      "(180,75)\n",
      "(180,90)\n",
      "(180,105)\n",
      "(180,120)\n",
      "(180,135)\n",
      "(180,150)\n",
      "(180,165)\n",
      "(180,180)\n",
      "(180,195)\n",
      "(180,210)\n",
      "(180,225)\n",
      "(180,240)\n",
      "(195,0)\n",
      "(195,15)\n",
      "(195,30)\n",
      "(195,45)\n",
      "(195,60)\n",
      "(195,75)\n",
      "(195,90)\n",
      "(195,105)\n",
      "(195,120)\n",
      "(195,135)\n",
      "(195,150)\n",
      "(195,165)\n",
      "(195,180)\n",
      "(195,195)\n",
      "(195,210)\n",
      "(195,225)\n",
      "(195,240)\n",
      "(210,0)\n",
      "(210,15)\n",
      "(210,30)\n",
      "(210,45)\n",
      "(210,60)\n",
      "(210,75)\n",
      "(210,90)\n",
      "(210,105)\n",
      "(210,120)\n",
      "(210,135)\n",
      "(210,150)\n",
      "(210,165)\n",
      "(210,180)\n",
      "(210,195)\n",
      "(210,210)\n",
      "(210,225)\n",
      "(210,240)\n",
      "(225,0)\n",
      "(225,15)\n",
      "(225,30)\n",
      "(225,45)\n",
      "(225,60)\n",
      "(225,75)\n",
      "(225,90)\n",
      "(225,105)\n",
      "(225,120)\n",
      "(225,135)\n",
      "(225,150)\n",
      "(225,165)\n",
      "(225,180)\n",
      "(225,195)\n",
      "(225,210)\n",
      "(225,225)\n",
      "(225,240)\n",
      "(240,0)\n",
      "(240,15)\n",
      "(240,30)\n",
      "(240,45)\n",
      "(240,60)\n",
      "(240,75)\n",
      "(240,90)\n",
      "(240,105)\n",
      "(240,120)\n",
      "(240,135)\n",
      "(240,150)\n",
      "(240,165)\n",
      "(240,180)\n",
      "(240,195)\n",
      "(240,210)\n",
      "(240,225)\n",
      "(240,240)\n"
     ]
    }
   ],
   "source": [
    "print(\"Maximum: \" + str(maximum_S))\n",
    "print(\"Points:\")\n",
    "for i in range(len(S)):\n",
    "    for j in range(len(S)):\n",
    "        if real_S[i][j] == maximum_S:\n",
    "            print(\"(\" + str(i) + \",\" + str(j) + \")\")"
   ]
  },
  {
   "cell_type": "markdown",
   "metadata": {},
   "source": [
    "Local Maxima"
   ]
  },
  {
   "cell_type": "code",
   "execution_count": 13,
   "metadata": {
    "collapsed": true
   },
   "outputs": [],
   "source": [
    "# Ver http://docs.scipy.org/doc/scipy-0.17.0/reference/generated/scipy.signal.argrelextrema.html"
   ]
  },
  {
   "cell_type": "markdown",
   "metadata": {},
   "source": [
    "Histograms"
   ]
  },
  {
   "cell_type": "code",
   "execution_count": 14,
   "metadata": {
    "collapsed": false
   },
   "outputs": [
    {
     "data": {
      "image/png": "[encoded data removed]",
      "text/plain": [
       "<matplotlib.figure.Figure at 0x1102ca310>"
      ]
     },
     "metadata": {},
     "output_type": "display_data"
    }
   ],
   "source": [
    "# Histogram of the complete S image\n",
    "plt.hist(real_S.ravel(),256,[0,256]); \n",
    "plt.show()"
   ]
  },
  {
   "cell_type": "code",
   "execution_count": 15,
   "metadata": {
    "collapsed": false
   },
   "outputs": [
    {
     "data": {
      "image/png": "[encoded data removed]",
      "text/plain": [
       "<matplotlib.figure.Figure at 0x10fd0d8d0>"
      ]
     },
     "metadata": {},
     "output_type": "display_data"
    }
   ],
   "source": [
    "# Histogram of the central tile of the PSF\n",
    "central_tile_bottom = row_r/2 - tile_size/2\n",
    "central_tile_top = row_r/2 + tile_size/2\n",
    "central_tile_left = col_r/2 - tile_size/2\n",
    "central_tile_right = col_r/2 + tile_size/2\n",
    "plt.hist(real_S[central_tile_bottom:central_tile_top+1, central_tile_left:central_tile_right+1].ravel(),256,[0,256]); \n",
    "plt.show()"
   ]
  },
  {
   "cell_type": "code",
   "execution_count": null,
   "metadata": {
    "collapsed": true
   },
   "outputs": [],
   "source": []
  },
  {
   "cell_type": "code",
   "execution_count": null,
   "metadata": {
    "collapsed": true
   },
   "outputs": [],
   "source": []
  }
 ],
 "metadata": {
  "kernelspec": {
   "display_name": "Python 2",
   "language": "python",
   "name": "python2"
  },
  "language_info": {
   "codemirror_mode": {
    "name": "ipython",
    "version": 2
   },
   "file_extension": ".py",
   "mimetype": "text/x-python",
   "name": "python",
   "nbconvert_exporter": "python",
   "pygments_lexer": "ipython2",
   "version": "2.7.11"
  }
 },
 "nbformat": 4,
 "nbformat_minor": 0
}
